{
 "cells": [
  {
   "cell_type": "code",
   "execution_count": 51,
   "metadata": {},
   "outputs": [],
   "source": [
    "import pandas as pd\n",
    "import numpy as np"
   ]
  },
  {
   "cell_type": "code",
   "execution_count": 52,
   "metadata": {},
   "outputs": [],
   "source": [
    "data = pd.read_csv('resources.csv')"
   ]
  },
  {
   "cell_type": "code",
   "execution_count": 53,
   "metadata": {},
   "outputs": [],
   "source": [
    "d1 = data.quantity * data.price "
   ]
  },
  {
   "cell_type": "code",
   "execution_count": 54,
   "metadata": {},
   "outputs": [],
   "source": [
    "d2 = pd.DataFrame(d1)"
   ]
  },
  {
   "cell_type": "code",
   "execution_count": 55,
   "metadata": {},
   "outputs": [],
   "source": [
    "d2.columns = ['total price']"
   ]
  },
  {
   "cell_type": "code",
   "execution_count": 56,
   "metadata": {},
   "outputs": [],
   "source": [
    "d3 = data.join(d2)"
   ]
  },
  {
   "cell_type": "code",
   "execution_count": 57,
   "metadata": {},
   "outputs": [],
   "source": [
    "d4 = d3.groupby('id').sum()"
   ]
  },
  {
   "cell_type": "code",
   "execution_count": 59,
   "metadata": {},
   "outputs": [],
   "source": [
    "del d4['quantity']"
   ]
  },
  {
   "cell_type": "code",
   "execution_count": 60,
   "metadata": {},
   "outputs": [],
   "source": [
    "del d4['price']"
   ]
  },
  {
   "cell_type": "code",
   "execution_count": 63,
   "metadata": {},
   "outputs": [],
   "source": [
    "trainset = pd.read_csv('train.csv')"
   ]
  },
  {
   "cell_type": "code",
   "execution_count": 73,
   "metadata": {},
   "outputs": [],
   "source": [
    "sortedtrain = trainset.sort_values(by='id')"
   ]
  },
  {
   "cell_type": "code",
   "execution_count": 75,
   "metadata": {},
   "outputs": [
    {
     "data": {
      "text/plain": [
       "34858     p000002\n",
       "89122     p000003\n",
       "116274    p000004\n",
       "143268    p000006\n",
       "126686    p000007\n",
       "172831    p000008\n",
       "52352     p000009\n",
       "77546     p000010\n",
       "130790    p000012\n",
       "33804     p000013\n",
       "161856    p000016\n",
       "107212    p000017\n",
       "150349    p000018\n",
       "87890     p000021\n",
       "163083    p000022\n",
       "132779    p000023\n",
       "16160     p000026\n",
       "38788     p000027\n",
       "1692      p000028\n",
       "89079     p000029\n",
       "38749     p000031\n",
       "89259     p000032\n",
       "92224     p000033\n",
       "161830    p000034\n",
       "113243    p000036\n",
       "140602    p000037\n",
       "34160     p000039\n",
       "140864    p000040\n",
       "110211    p000041\n",
       "109797    p000042\n",
       "           ...   \n",
       "27905     p260077\n",
       "97697     p260078\n",
       "77540     p260081\n",
       "12570     p260082\n",
       "41120     p260083\n",
       "127269    p260084\n",
       "101069    p260086\n",
       "158140    p260087\n",
       "81292     p260088\n",
       "176152    p260089\n",
       "85903     p260090\n",
       "490       p260091\n",
       "165462    p260092\n",
       "112575    p260093\n",
       "67192     p260095\n",
       "84057     p260096\n",
       "89157     p260097\n",
       "134317    p260098\n",
       "14464     p260100\n",
       "149852    p260101\n",
       "133986    p260102\n",
       "129490    p260104\n",
       "161486    p260105\n",
       "82425     p260106\n",
       "159207    p260107\n",
       "10248     p260109\n",
       "17099     p260111\n",
       "51764     p260112\n",
       "78327     p260113\n",
       "28050     p260114\n",
       "Name: id, Length: 182080, dtype: object"
      ]
     },
     "execution_count": 75,
     "metadata": {},
     "output_type": "execute_result"
    }
   ],
   "source": [
    "for idt in sortedtrain['id']:\n",
    "    for id"
   ]
  },
  {
   "cell_type": "code",
   "execution_count": null,
   "metadata": {},
   "outputs": [],
   "source": []
  }
 ],
 "metadata": {
  "kernelspec": {
   "display_name": "Python 3",
   "language": "python",
   "name": "python3"
  },
  "language_info": {
   "codemirror_mode": {
    "name": "ipython",
    "version": 3
   },
   "file_extension": ".py",
   "mimetype": "text/x-python",
   "name": "python",
   "nbconvert_exporter": "python",
   "pygments_lexer": "ipython3",
   "version": "3.5.4"
  }
 },
 "nbformat": 4,
 "nbformat_minor": 2
}
